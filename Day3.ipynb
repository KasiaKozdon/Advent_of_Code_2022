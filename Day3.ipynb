{
 "cells": [
  {
   "cell_type": "code",
   "execution_count": 53,
   "id": "762e8d21-e713-4014-b8c9-71138c589e10",
   "metadata": {},
   "outputs": [],
   "source": [
    "import unittest"
   ]
  },
  {
   "cell_type": "code",
   "execution_count": 61,
   "id": "d13a762b-79ec-44e9-a3d9-111f4c4755ce",
   "metadata": {},
   "outputs": [
    {
     "name": "stderr",
     "output_type": "stream",
     "text": [
      "\n",
      "----------------------------------------------------------------------\n",
      "Ran 0 tests in 0.000s\n",
      "\n",
      "OK\n"
     ]
    },
    {
     "data": {
      "text/plain": [
       "<unittest.main.TestProgram at 0x111b67a30>"
      ]
     },
     "execution_count": 80,
     "metadata": {},
     "output_type": "execute_result"
    }
   ],
   "source": [
    "def split_compartments(items):\n",
    "    \"\"\"\n",
    "    A given rucksack always has the same number of items in each of its two compartments, \n",
    "    so the first half of the characters represent items in the first compartment, \n",
    "    while the second half of the characters represent items in the second compartment.\n",
    "    \"\"\"\n",
    "    middle = int(len(items)/2)\n",
    "    compartment1 = items[:middle]\n",
    "    compartment2 = items[middle:]\n",
    "    return compartment1, compartment2\n",
    "    \n",
    "\n",
    "def score_priority(item):\n",
    "    \"\"\"   \n",
    "    Lowercase item types a through z have priorities 1 through 26.\n",
    "    Uppercase item types A through Z have priorities 27 through 52.\n",
    "\n",
    "    \"\"\"\n",
    "    var = \"a\"\n",
    "    lower = [(chr(ord(var)+i)) for i in range(26)]\n",
    "    upper = [char.upper() for char in lower]\n",
    "    priority = lower + upper\n",
    "    \n",
    "    priotity_level = priority.index(item) + 1   \n",
    "    return priotity_level\n",
    "\n",
    "def find_shared(items1, items2):\n",
    "    overlap = list(set(items1) & set(items2))[0]\n",
    "    return overlap\n",
    "\n",
    "def calculate_priority_of_shared_item(string):\n",
    "            string1, string2 = split_compartments(string)\n",
    "            shared = find_shared(string1, string2)            \n",
    "            return score_priority(shared)\n",
    "\n",
    "class Test(unittest.TestCase):\n",
    "    def provided_examples(self):       \n",
    "        string = \"vJrwpWtwJgWrhcsFMMfFFhFp\"\n",
    "        true_answer = 16\n",
    "        self.assesEqual(true_answer, calculate_priority_of_shared_item(string))\n",
    "        \n",
    "        string = \"CrZsJsPPZsGzwwsLwLmpwMDw\"\n",
    "        true_answer = 19\n",
    "        self.assesEqual(true_answer, calculate_priority_of_shared_item(string))\n",
    "        \n",
    "unittest.main(argv=[''], verbosity = 3, exit = False) "
   ]
  },
  {
   "cell_type": "code",
   "execution_count": 62,
   "id": "484defd9-5ab4-4f90-8be7-ea254133562c",
   "metadata": {},
   "outputs": [],
   "source": [
    "with open(\"inputs/input3.txt\") as f:\n",
    "    repository = f.readlines()"
   ]
  },
  {
   "cell_type": "code",
   "execution_count": 79,
   "id": "1a8428b6-ec65-4a0f-9102-0a609c2e0f9d",
   "metadata": {},
   "outputs": [
    {
     "name": "stdout",
     "output_type": "stream",
     "text": [
      "7831\n"
     ]
    }
   ],
   "source": [
    "priorities = list(map(lambda x: calculate_priority_of_shared_item(x), repository))\n",
    "priorities_sum = sum(priorities)\n",
    "print(priorities_sum)"
   ]
  },
  {
   "cell_type": "code",
   "execution_count": null,
   "id": "3feda60f-0393-4327-a1f6-c5e28923bcca",
   "metadata": {},
   "outputs": [],
   "source": []
  }
 ],
 "metadata": {
  "kernelspec": {
   "display_name": "Python 3 (ipykernel)",
   "language": "python",
   "name": "python3"
  },
  "language_info": {
   "codemirror_mode": {
    "name": "ipython",
    "version": 3
   },
   "file_extension": ".py",
   "mimetype": "text/x-python",
   "name": "python",
   "nbconvert_exporter": "python",
   "pygments_lexer": "ipython3",
   "version": "3.9.7"
  }
 },
 "nbformat": 4,
 "nbformat_minor": 5
}
