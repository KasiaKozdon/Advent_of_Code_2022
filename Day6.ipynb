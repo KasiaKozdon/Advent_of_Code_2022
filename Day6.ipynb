{
 "cells": [
  {
   "cell_type": "code",
   "execution_count": 53,
   "id": "43e67cc7-0274-4b69-8739-036b892a7967",
   "metadata": {},
   "outputs": [],
   "source": [
    "import unittest"
   ]
  },
  {
   "cell_type": "code",
   "execution_count": 54,
   "id": "e0042a21-0c91-4343-ac67-1406a5d102ed",
   "metadata": {},
   "outputs": [],
   "source": [
    "with open(\"inputs/input6.txt\") as f:\n",
    "    message = f.readlines()\n",
    "message = str(message[0])"
   ]
  },
  {
   "cell_type": "code",
   "execution_count": 59,
   "id": "3075442b-7d5d-4017-9da2-399515e73009",
   "metadata": {},
   "outputs": [
    {
     "name": "stderr",
     "output_type": "stream",
     "text": [
      "\n",
      "----------------------------------------------------------------------\n",
      "Ran 0 tests in 0.000s\n",
      "\n",
      "OK\n"
     ]
    },
    {
     "data": {
      "text/plain": [
       "<unittest.main.TestProgram at 0x10f77c040>"
      ]
     },
     "execution_count": 59,
     "metadata": {},
     "output_type": "execute_result"
    }
   ],
   "source": [
    "def find_unique(string, unique_len = 4):\n",
    "    \"Finds the end index of the first sequence composed of different symbold.\"\n",
    "    for letter_idx, letter in enumerate(string):\n",
    "        buffer = string[letter_idx:letter_idx+unique_len]\n",
    "        if len(set(buffer)) == len(buffer):\n",
    "            return letter_idx+unique_len\n",
    "        \n",
    "class Tests(unittest.TestCase):\n",
    "    def provided_example(self):\n",
    "        string = \"bvwbjplbgvbhsrlpgdmjqwftvncz\"\n",
    "        true_answer = 5\n",
    "        self.assertEqual(true_answer, find_unique(string))\n",
    "        \n",
    "        string = \"nppdvjthqldpwncqszvftbrmjlhg\"\n",
    "        true_answer = 6\n",
    "        self.assertEqual(true_answer, find_unique(string))\n",
    "        \n",
    "        string = \"nznrnfrfntjfmvfwmzdfjlvtqnbhcprsg\"\n",
    "        true_answer = 10\n",
    "        self.assertEqual(true_answer, find_unique(string))\n",
    "        \n",
    "        string = \"zcfzfwzzqfrljwzlrfnpqdbhtmscgvjw\"\n",
    "        true_answer = 11\n",
    "        self.assertEqual(true_answer, find_unique(string))\n",
    "        \n",
    "        string = \"mjqjpqmgbljsphdztnvjfqwrcgsmlb\"\n",
    "        true_answer = 19\n",
    "        self.assertEqual(true_answer, find_unique(string, unique_len=14))\n",
    "        \n",
    "        string = \"bvwbjplbgvbhsrlpgdmjqwftvncz\"\n",
    "        true_answer = 23\n",
    "        self.assertEqual(true_answer, find_unique(string, unique_len=14))\n",
    "        \n",
    "        string = \"zcfzfwzzqfrljwzlrfnpqdbhtmscgvjw\"\n",
    "        true_answer = 26\n",
    "        self.assertEqual(true_answer, find_unique(string, unique_len=14))\n",
    "\n",
    "unittest.main(argv=[''], verbosity = 3, exit = False)        \n",
    "        "
   ]
  },
  {
   "cell_type": "code",
   "execution_count": 56,
   "id": "4e51d89a-873c-42a4-9753-a266a137814e",
   "metadata": {},
   "outputs": [
    {
     "name": "stdout",
     "output_type": "stream",
     "text": [
      "1598\n"
     ]
    }
   ],
   "source": [
    "print(find_unique(message))"
   ]
  },
  {
   "cell_type": "code",
   "execution_count": 61,
   "id": "9ee002bd-1185-4a7a-abef-8f1529e1027d",
   "metadata": {},
   "outputs": [
    {
     "name": "stdout",
     "output_type": "stream",
     "text": [
      "2414\n"
     ]
    }
   ],
   "source": [
    "print(find_unique(message, unique_len=14))"
   ]
  }
 ],
 "metadata": {
  "kernelspec": {
   "display_name": "Python 3 (ipykernel)",
   "language": "python",
   "name": "python3"
  },
  "language_info": {
   "codemirror_mode": {
    "name": "ipython",
    "version": 3
   },
   "file_extension": ".py",
   "mimetype": "text/x-python",
   "name": "python",
   "nbconvert_exporter": "python",
   "pygments_lexer": "ipython3",
   "version": "3.9.7"
  }
 },
 "nbformat": 4,
 "nbformat_minor": 5
}
