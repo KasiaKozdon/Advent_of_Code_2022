{
 "cells": [
  {
   "cell_type": "code",
   "execution_count": 6,
   "id": "b59fc105-3d27-4f58-83c6-c0803e1643d6",
   "metadata": {},
   "outputs": [],
   "source": [
    "import heapq"
   ]
  },
  {
   "cell_type": "code",
   "execution_count": 7,
   "id": "ef72ecdd-35c5-4d16-9e94-59b1d9f671d5",
   "metadata": {},
   "outputs": [],
   "source": [
    "input_path = \"inputs/input1.txt\".format(directory_path)"
   ]
  },
  {
   "cell_type": "code",
   "execution_count": 8,
   "id": "b3471f9c-1e2a-4d38-af79-7514562f856b",
   "metadata": {},
   "outputs": [],
   "source": [
    "food_stock = []\n",
    "personal_stock = []\n",
    "\n",
    "with open(input_path) as f:\n",
    "    data = f.readlines()\n",
    "    \n",
    "for data_entry in data:\n",
    "    try:\n",
    "        personal_stock.append(int(data_entry))\n",
    "    except ValueError:\n",
    "        if data_entry == \"\\n\":\n",
    "            food_stock.append(personal_stock.copy())\n",
    "            personal_stock = []\n",
    "        else:\n",
    "            print(f\"Value encountered was {data_entry}.\")\n",
    "            \n"
   ]
  },
  {
   "cell_type": "code",
   "execution_count": 4,
   "id": "0f5912b8-1e73-4318-82cd-8be5cab29422",
   "metadata": {},
   "outputs": [
    {
     "name": "stdout",
     "output_type": "stream",
     "text": [
      "70509\n"
     ]
    }
   ],
   "source": [
    "# day 1a\n",
    "personal_stock_sum = [sum(personal_stock) for personal_stock in food_stock]\n",
    "max_stock = max(personal_stock_sum)\n",
    "print(max_stock)"
   ]
  },
  {
   "cell_type": "code",
   "execution_count": 5,
   "id": "cefb1699-7b18-4b46-9736-f4a9316e1369",
   "metadata": {},
   "outputs": [
    {
     "name": "stdout",
     "output_type": "stream",
     "text": [
      "208567\n"
     ]
    }
   ],
   "source": [
    "# day 1b\n",
    "top_elves_to_track = 3\n",
    "n_max_stock = heapq.nlargest(top_elves_to_track, personal_stock_sum)\n",
    "print(sum(n_max_stock))"
   ]
  }
 ],
 "metadata": {
  "kernelspec": {
   "display_name": "Python 3 (ipykernel)",
   "language": "python",
   "name": "python3"
  },
  "language_info": {
   "codemirror_mode": {
    "name": "ipython",
    "version": 3
   },
   "file_extension": ".py",
   "mimetype": "text/x-python",
   "name": "python",
   "nbconvert_exporter": "python",
   "pygments_lexer": "ipython3",
   "version": "3.9.7"
  }
 },
 "nbformat": 4,
 "nbformat_minor": 5
}
