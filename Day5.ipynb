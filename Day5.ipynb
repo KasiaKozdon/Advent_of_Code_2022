{
 "cells": [
  {
   "cell_type": "code",
   "execution_count": 1,
   "id": "88825cc4-e72f-447a-b604-a784066a0cd3",
   "metadata": {},
   "outputs": [],
   "source": [
    "import copy"
   ]
  },
  {
   "cell_type": "code",
   "execution_count": 2,
   "id": "b4bf478e-99fa-42f7-8c28-b763f48b4cf0",
   "metadata": {},
   "outputs": [],
   "source": [
    "def find_bottom_of_boxes(data):\n",
    "    \"\"\"\n",
    "    Returns the number of data lines describing the boxes, and the number of columns present. 1-indexed.\n",
    "    \"\"\"\n",
    "    line_idx = 0 \n",
    "    for line_idx, line in enumerate(data):\n",
    "        line = line.split()\n",
    "        if line[0] == '1':\n",
    "            return line_idx, int(line[-1])\n",
    "        \n",
    "def read_box_arrangement(boxes_data, max_depth, stacks_count):\n",
    "    box_arrangement = {str(stack): [] for stack in range(1, stacks_count+1)}\n",
    "    box_chars = 4 # how many chars or empty spaces correspond to a box\n",
    "   \n",
    "    for line in boxes_data:\n",
    "        stack_idx = 0\n",
    "        line = line.strip(\"\\n\").split(\" \")\n",
    "        empty_counter = 0\n",
    "        for l in line:        \n",
    "            if l == '':\n",
    "                empty_counter += 1 \n",
    "            else:\n",
    "                stack_idx += 1\n",
    "                box_id = l.strip('[').strip(']')\n",
    "                box_arrangement[str(int(stack_idx + (empty_counter/ box_chars)))].append(box_id) \n",
    "                \n",
    "    return box_arrangement\n",
    "\n",
    "def read_strategy(strategy_data):\n",
    "    strategy = []\n",
    "    for move in strategy_data:\n",
    "        move = move.strip(\"\\n\").split()\n",
    "        strategy.append({\"boxes\" : int(move[1]), \"from_stack\" : move[3], \"to_stack\" : move[5]})\n",
    "    return strategy\n",
    "\n",
    "def apply_strategy(strategy, boxes_arrangement):  \n",
    "    boxes = copy.deepcopy(boxes_arrangement)\n",
    "    for move in strategy:\n",
    "        for box in range(move[\"boxes\"]):\n",
    "            moved_box_id = boxes[move[\"from_stack\"]].pop(0)\n",
    "            boxes[move[\"to_stack\"]].insert(0, moved_box_id)                  \n",
    "    return boxes\n",
    "\n",
    "def find_to_boxes(boxes_arrangement):\n",
    "    top_boxes = [stack[0] for stack in boxes_arrangement.values()]\n",
    "    return top_boxes"
   ]
  },
  {
   "cell_type": "code",
   "execution_count": 3,
   "id": "08d28312-1297-4831-8fdf-e5ffe115678b",
   "metadata": {},
   "outputs": [],
   "source": [
    "data = []\n",
    "with open(\"inputs/input5.txt\") as f:\n",
    "    for line in f:\n",
    "        data.append(line)"
   ]
  },
  {
   "cell_type": "code",
   "execution_count": 4,
   "id": "5660eee1-9987-46de-ba9c-086a573a5761",
   "metadata": {},
   "outputs": [],
   "source": [
    "boxes_max_depth, stacks_count = find_bottom_of_boxes(data)\n",
    "boxes_arrangement = read_box_arrangement(data[:boxes_max_depth], boxes_max_depth, stacks_count)\n",
    "strategy = read_strategy(data[boxes_max_depth+2:])\n",
    "new_boxes_arrangement = apply_strategy(strategy, boxes_arrangement)"
   ]
  },
  {
   "cell_type": "code",
   "execution_count": 5,
   "id": "66d44afa-3628-4325-afaf-bd0f64c29017",
   "metadata": {},
   "outputs": [
    {
     "name": "stdout",
     "output_type": "stream",
     "text": [
      "DHBJQJCCW\n"
     ]
    }
   ],
   "source": [
    "top_boxes = find_to_boxes(new_boxes_arrangement)\n",
    "boxes_string = \"\"\n",
    "print(boxes_string.join(top_boxes))"
   ]
  },
  {
   "cell_type": "markdown",
   "id": "9a87c2d2-2c43-4fbe-bec7-4ebeb8a39f87",
   "metadata": {},
   "source": [
    "### Part b"
   ]
  },
  {
   "cell_type": "code",
   "execution_count": 6,
   "id": "fd1a6246-f222-4f70-afea-d286077b90e8",
   "metadata": {},
   "outputs": [],
   "source": [
    "def apply_strategy_upgraded(strategy, boxes_arrangement):   \n",
    "    \"\"\"\n",
    "    Boxes are now moved as a stack and herefore do not change the order.\n",
    "    \"\"\"\n",
    "    boxes = copy.deepcopy(boxes_arrangement)\n",
    "    for move in strategy:\n",
    "        moved_box_ids = boxes[move[\"from_stack\"]][:move[\"boxes\"]]\n",
    "        boxes[move[\"from_stack\"]] = boxes[move[\"from_stack\"]][move[\"boxes\"]:]\n",
    "        boxes[move[\"to_stack\"]] =  moved_box_ids + boxes[move[\"to_stack\"]] \n",
    "    return boxes"
   ]
  },
  {
   "cell_type": "code",
   "execution_count": 7,
   "id": "19a2e54f-93cb-477b-856c-907a907aa783",
   "metadata": {},
   "outputs": [],
   "source": [
    "new_boxes_arrangement_upgraded = apply_strategy_upgraded(strategy, boxes_arrangement)"
   ]
  },
  {
   "cell_type": "code",
   "execution_count": 10,
   "id": "f3ab3588-0771-4642-ae4d-dc0ba04cfb99",
   "metadata": {},
   "outputs": [
    {
     "name": "stdout",
     "output_type": "stream",
     "text": [
      "WJVRLSJJT\n"
     ]
    }
   ],
   "source": [
    "top_boxes = find_to_boxes(new_boxes_arrangement_upgraded)\n",
    "boxes_string = \"\"\n",
    "print(boxes_string.join(top_boxes))"
   ]
  },
  {
   "cell_type": "code",
   "execution_count": null,
   "id": "8cc0d930-6698-49fc-9720-e296a4686fcc",
   "metadata": {},
   "outputs": [],
   "source": []
  }
 ],
 "metadata": {
  "kernelspec": {
   "display_name": "Python 3 (ipykernel)",
   "language": "python",
   "name": "python3"
  },
  "language_info": {
   "codemirror_mode": {
    "name": "ipython",
    "version": 3
   },
   "file_extension": ".py",
   "mimetype": "text/x-python",
   "name": "python",
   "nbconvert_exporter": "python",
   "pygments_lexer": "ipython3",
   "version": "3.9.7"
  }
 },
 "nbformat": 4,
 "nbformat_minor": 5
}
