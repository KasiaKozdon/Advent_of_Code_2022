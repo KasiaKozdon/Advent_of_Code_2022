{
 "cells": [
  {
   "cell_type": "code",
   "execution_count": 1,
   "id": "3bbeebcb-db33-4523-8180-792870984c42",
   "metadata": {},
   "outputs": [],
   "source": [
    "import unittest"
   ]
  },
  {
   "cell_type": "code",
   "execution_count": 2,
   "id": "39c04185-9089-42d3-a80c-003a1e5d7ace",
   "metadata": {},
   "outputs": [],
   "source": [
    "class File():\n",
    "    def __init__(self, name, size):\n",
    "        self.name = name\n",
    "        self.size = size\n",
    "        \n",
    "class Directory():\n",
    "    def __init__(self, name, parent_dir):\n",
    "        self.name = name\n",
    "        self.parent_dir = parent_dir # Directory class object\n",
    "        self.file_inventory = [] # File class object\n",
    "        self.subdir_size = 0\n",
    "        self.files_size = 0\n",
    "        self.total_size =self.subdir_size + self.files_size\n",
    "        \n",
    "    def update_file_size_sum(self):\n",
    "        self.files_size = sum([file.size for file in file_inventory])\n",
    "        \n",
    "    def update_total_size(self):\n",
    "        self.total_size = self.subdir_size + self.files_size\n",
    "    \n",
    "    def update_parent_size(self, delta):\n",
    "        if self.parent_dir is not None:\n",
    "            self.parent_dir.subdir_size += delta\n",
    "            self.parent_dir.update_total_size()\n",
    "            if self.parent_dir.parent_dir is not None:\n",
    "                self.parent_dir.update_parent_size(delta)\n",
    "    "
   ]
  },
  {
   "cell_type": "code",
   "execution_count": 3,
   "id": "d40e39fb-dca2-4a58-aaa7-90e667412857",
   "metadata": {},
   "outputs": [
    {
     "name": "stderr",
     "output_type": "stream",
     "text": [
      "\n",
      "----------------------------------------------------------------------\n",
      "Ran 0 tests in 0.000s\n",
      "\n",
      "OK\n"
     ]
    },
    {
     "data": {
      "text/plain": [
       "<unittest.main.TestProgram at 0x10c480bb0>"
      ]
     },
     "execution_count": 3,
     "metadata": {},
     "output_type": "execute_result"
    }
   ],
   "source": [
    "def parse_file_details(file_details):\n",
    "    file_details = file_details.split(\" \")\n",
    "    file_size = int(file_details[0])\n",
    "    file_name = file_details[1]\n",
    "    return file_size, file_name\n",
    "\n",
    "def parse_device_content(device_content_raw):\n",
    "    change_dir = \"$ cd\"\n",
    "    ignore = \"$ ls\"\n",
    "    level_up = \"..\"\n",
    "    directory = \"dir\"\n",
    "    \n",
    "    dir_dict = {} # list of directory names as keys and Directory objects as values\n",
    "    file_names = [] \n",
    "    file_objects = [] \n",
    "    current_path = [None] \n",
    "\n",
    "    \n",
    "    for line in device_content_raw:\n",
    "        if line.startswith(change_dir):\n",
    "            switching_to = line.split()[-1]\n",
    "            if switching_to == level_up:\n",
    "                current_path.pop()\n",
    "            else:\n",
    "                current_path.append(switching_to)\n",
    "                if switching_to not in dir_dict.keys():\n",
    "                    try:\n",
    "                        parent_dir = dir_dict[current_path[-2]]\n",
    "                    except:\n",
    "                        parent_dir = None\n",
    "                    new_dir = Directory(name=switching_to, parent_dir=parent_dir)\n",
    "                    dir_dict[switching_to] = new_dir\n",
    "        elif line.startswith(ignore):\n",
    "            pass\n",
    "        elif line.startswith(directory):\n",
    "            pass\n",
    "        else:\n",
    "            file_size, file_name = parse_file_details(line)\n",
    "            file_object = File(file_name, file_size)\n",
    "            file_names.append(file_name)\n",
    "            file_objects.append(file_object)\n",
    "            new_dir.file_inventory.append(file_object)\n",
    "            new_dir.files_size += file_size\n",
    "            new_dir.total_size += file_size\n",
    "            new_dir.update_parent_size(delta=file_size)\n",
    "            \n",
    "    [directory.update_total_size() for directory in dir_dict.values()]\n",
    "            \n",
    "    return dir_dict, file_objects\n",
    "\n",
    "class Test(unittest.TestCase):\n",
    "    with open(\"inputs/dummy7.txt\") as f:\n",
    "        device_content = f.readlines()\n",
    "        device_content = [line.strip() for line in device_content]\n",
    "    \n",
    "    def provided_examples(self, device_content):       \n",
    "        dir_dict, file_objects = parse_device_content(device_content)\n",
    "        \n",
    "        dir_e_size = dir_dict['e'].total_size\n",
    "        true_answer = 584\n",
    "        self.assesEqual(true_answer, dir_e_size)\n",
    "        \n",
    "        dir_a_size = dir_dict['a'].total_size\n",
    "        true_answer = 94853\n",
    "        self.assesEqual(true_answer, dir_a_size)\n",
    "        \n",
    "        dir_d_size = dir_dict['d'].total_size\n",
    "        true_answer = 24933642\n",
    "        self.assesEqual(true_answer, dir_d_size)\n",
    "        \n",
    "        dir_root_size = dir_dict['/'].total_size\n",
    "        true_answer = 48381165\n",
    "        self.assesEqual(true_answer, dir_d_size)\n",
    "        \n",
    "\n",
    "unittest.main(argv=[''], verbosity = 3, exit = False) \n",
    "                "
   ]
  }
 ],
 "metadata": {
  "kernelspec": {
   "display_name": "Python 3 (ipykernel)",
   "language": "python",
   "name": "python3"
  },
  "language_info": {
   "codemirror_mode": {
    "name": "ipython",
    "version": 3
   },
   "file_extension": ".py",
   "mimetype": "text/x-python",
   "name": "python",
   "nbconvert_exporter": "python",
   "pygments_lexer": "ipython3",
   "version": "3.9.7"
  }
 },
 "nbformat": 4,
 "nbformat_minor": 5
}
