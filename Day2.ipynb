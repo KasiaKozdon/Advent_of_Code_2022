{
 "cells": [
  {
   "cell_type": "code",
   "execution_count": 1,
   "id": "1b1b9ef6-742d-49e5-9981-9c89c61d1384",
   "metadata": {},
   "outputs": [],
   "source": [
    "import copy\n",
    "import unittest"
   ]
  },
  {
   "cell_type": "markdown",
   "id": "da462b81-691b-4e3a-8763-5d6b6eb56f00",
   "metadata": {},
   "source": [
    "# Part a"
   ]
  },
  {
   "cell_type": "markdown",
   "id": "107b2c05-937d-4cf8-a466-7c433760184f",
   "metadata": {},
   "source": [
    "### Scoring rules &  predicted game scenario"
   ]
  },
  {
   "cell_type": "code",
   "execution_count": 2,
   "id": "84de05cf-0f80-413d-9a7b-b0682808143e",
   "metadata": {},
   "outputs": [],
   "source": [
    "scores_dict = {\"reaction\" : {\"X\" : 1, \"Y\" : 2, \"Z\" : 3}, \"outcome\" : {\"loss\" : 0, \"draw\" : 3, \"win\" : 6}}\n",
    "moves_codes = {\"A\" : \"X\", \"B\" : \"Y\", \"C\" : \"Z\"}"
   ]
  },
  {
   "cell_type": "code",
   "execution_count": 3,
   "id": "5da5e890-08da-42be-b9d1-591f0beeeb06",
   "metadata": {},
   "outputs": [
    {
     "name": "stderr",
     "output_type": "stream",
     "text": [
      "\n",
      "----------------------------------------------------------------------\n",
      "Ran 0 tests in 0.000s\n",
      "\n",
      "OK\n"
     ]
    },
    {
     "data": {
      "text/plain": [
       "<unittest.main.TestProgram at 0x107c6fd00>"
      ]
     },
     "execution_count": 3,
     "metadata": {},
     "output_type": "execute_result"
    }
   ],
   "source": [
    "# Rock defeats Scissors, Scissors defeats Paper, and Paper defeats Rock. If both players choose the same shape, the round instead ends in a draw.\n",
    "# me       X for Rock, Y for Paper, and Z for Scissors\n",
    "# opponent A for Rock, B for Paper, and C for Scissors\n",
    "\n",
    "def check_score(action, reaction, scores_dict, moves_codes):\n",
    "    points =  scores_dict[\"reaction\"][reaction]\n",
    "    if moves_codes[action] == reaction:\n",
    "        return points + scores_dict[\"outcome\"][\"draw\"] \n",
    "    elif action == \"A\":\n",
    "        if reaction == \"Y\":\n",
    "            return points + scores_dict[\"outcome\"][\"win\"]\n",
    "        elif reaction == \"Z\":\n",
    "            return points + scores_dict[\"outcome\"][\"loss\"]\n",
    "    elif action == \"B\":\n",
    "        if reaction == \"X\":\n",
    "            return points + scores_dict[\"outcome\"][\"loss\"]\n",
    "        elif reaction == \"Z\":\n",
    "            return points + scores_dict[\"outcome\"][\"win\"]\n",
    "    elif action == \"C\":\n",
    "        if reaction == \"X\":\n",
    "            return points + scores_dict[\"outcome\"][\"win\"]\n",
    "        elif reaction == \"Y\":\n",
    "            return points + scores_dict[\"outcome\"][\"loss\"]\n",
    "    else:\n",
    "        print(f\"Unexpected players choices. action was {action}, reaction was {reaction}\")\n",
    "        \n",
    "\n",
    "class Tests(unittest.TestCase):\n",
    "    def provided_example(self):\n",
    "        true_score = 8\n",
    "        score_to_verify = check_score(\"A\", \"Y\", scores_dict, moves_codes)\n",
    "        self.assertEqual(true_score, score_to_verify)\n",
    "        \n",
    "        true_score = 1\n",
    "        score_to_verify = check_score(\"B\", \"X\", scores_dict, moves_codes)\n",
    "        self.assertEqual(true_score, score_to_verify)\n",
    "        \n",
    "        true_score = 6\n",
    "        score_to_verify = check_score(\"C\", \"Z\", scores_dict, moves_codes)\n",
    "        self.assertEqual(true_score, score_to_verify)\n",
    "        \n",
    "unittest.main(argv=[''], verbosity=3, exit=False)\n"
   ]
  },
  {
   "cell_type": "code",
   "execution_count": 4,
   "id": "97fb45fb-cb01-46ac-9693-e2ba0f03848a",
   "metadata": {},
   "outputs": [],
   "source": [
    "game_summary = []\n",
    "\n",
    "with open(\"inputs/input2.txt\") as f:\n",
    "    for line_idx, line in enumerate(f):\n",
    "        (action, reaction) = line.strip(\"\\n\").split()\n",
    "        game_summary.append({\"turn_id\" : line_idx, \"action\" : action, \"reaction\" : reaction})\n",
    "    "
   ]
  },
  {
   "cell_type": "code",
   "execution_count": 5,
   "id": "011e991b-20e3-4157-8721-bee16130a1bd",
   "metadata": {},
   "outputs": [
    {
     "name": "stdout",
     "output_type": "stream",
     "text": [
      "Sample turn summary: {'turn_id': 0, 'action': 'C', 'reaction': 'X'}\n"
     ]
    }
   ],
   "source": [
    "print(f\"Sample turn summary: {game_summary[0]}\")"
   ]
  },
  {
   "cell_type": "markdown",
   "id": "1a68ccf7-ab9a-41b3-8f28-1731a2282520",
   "metadata": {},
   "source": [
    "### Calculate complete game score"
   ]
  },
  {
   "cell_type": "code",
   "execution_count": 6,
   "id": "f24fa019-9c15-46a7-a329-71c618113c02",
   "metadata": {},
   "outputs": [],
   "source": [
    "my_score = 0\n",
    "for game_round in game_summary:\n",
    "    my_score += check_score(game_round[\"action\"], game_round[\"reaction\"], scores_dict, moves_codes)"
   ]
  },
  {
   "cell_type": "code",
   "execution_count": 7,
   "id": "f8b721dd-6d08-40f9-804b-ce234ccfb265",
   "metadata": {},
   "outputs": [
    {
     "name": "stdout",
     "output_type": "stream",
     "text": [
      "12679\n"
     ]
    }
   ],
   "source": [
    "print(my_score)"
   ]
  },
  {
   "cell_type": "markdown",
   "id": "b91cff13-ee92-4e11-a4f1-6ccffac0540e",
   "metadata": {},
   "source": [
    "# Part b"
   ]
  },
  {
   "cell_type": "markdown",
   "id": "cf107fde-b55b-4af9-bfc9-615b889387d3",
   "metadata": {},
   "source": [
    "X means you need to lose, Y means you need to end the round in a draw, and Z means you need to win"
   ]
  },
  {
   "cell_type": "code",
   "execution_count": 8,
   "id": "bbae1d60-9fc1-47e9-979e-078b3eb50be2",
   "metadata": {},
   "outputs": [],
   "source": [
    "scores_dict = {\"reaction\" : {\"A\" : 1, \"B\" : 2, \"C\" : 3}, \"outcome\" : {\"loss\" : 0, \"draw\" : 3, \"win\" : 6}}\n",
    "target_codes = {\"X\" : \"loss\", \"Y\" : \"draw\", \"Z\" : \"win\"}"
   ]
  },
  {
   "cell_type": "code",
   "execution_count": 9,
   "id": "d2cf87d2-46d5-4a9f-92e5-e6180aa91821",
   "metadata": {},
   "outputs": [],
   "source": [
    "def find_strategy(action, target):\n",
    "    if target == \"Y\":\n",
    "        return action\n",
    "    elif action == \"A\":\n",
    "        if target == \"X\":\n",
    "            return \"C\"\n",
    "        else:\n",
    "            return \"B\"\n",
    "    elif action == \"B\":\n",
    "        if target == \"X\":\n",
    "            return \"A\"\n",
    "        else:\n",
    "            return \"C\"\n",
    "    elif action == \"C\":\n",
    "        if target == \"X\":\n",
    "            return \"B\"\n",
    "        else:\n",
    "            return \"A\"       \n",
    "    else:\n",
    "        print(f\"Unexpected players choices. action was {action}, reaction was {reaction}\")\n",
    "        \n",
    "def check_score(action, reaction, scores_dict, moves_codes):\n",
    "    points =  scores_dict[\"reaction\"][reaction]\n",
    "    if action == reaction:\n",
    "        return points + scores_dict[\"outcome\"][\"draw\"] \n",
    "    elif action == \"A\":\n",
    "        if reaction == \"B\":\n",
    "            return points + scores_dict[\"outcome\"][\"win\"]\n",
    "        elif reaction == \"C\":\n",
    "            return points + scores_dict[\"outcome\"][\"loss\"]\n",
    "    elif action == \"B\":\n",
    "        if reaction == \"A\":\n",
    "            return points + scores_dict[\"outcome\"][\"loss\"]\n",
    "        elif reaction == \"C\":\n",
    "            return points + scores_dict[\"outcome\"][\"win\"]\n",
    "    elif action == \"C\":\n",
    "        if reaction == \"A\":\n",
    "            return points + scores_dict[\"outcome\"][\"win\"]\n",
    "        elif reaction == \"B\":\n",
    "            return points + scores_dict[\"outcome\"][\"loss\"]\n",
    "    else:\n",
    "        print(f\"Unexpected players choices. action was {action}, reaction was {reaction}\")\n",
    "        "
   ]
  },
  {
   "cell_type": "code",
   "execution_count": 10,
   "id": "f4844b96-ac85-4787-86a3-13a940bc9eb2",
   "metadata": {},
   "outputs": [],
   "source": [
    "game_summary_revised = copy.deepcopy(game_summary)"
   ]
  },
  {
   "cell_type": "code",
   "execution_count": 11,
   "id": "7f566ae9-94d2-4da0-b1f6-a35028a94306",
   "metadata": {},
   "outputs": [],
   "source": [
    "game_summary_revised = [{\"turn_id\" : game_turn[\"turn_id\"], \n",
    "                         \"action\" : game_turn[\"action\"], \n",
    "                         \"required_outcome\" : game_turn.pop(\"reaction\")} for game_turn in game_summary_revised]\n"
   ]
  },
  {
   "cell_type": "code",
   "execution_count": 12,
   "id": "663a29ca-6894-4c7d-bad9-8aef6b61e378",
   "metadata": {},
   "outputs": [],
   "source": [
    "game_summary_revised = [{\"turn_id\" : game_turn[\"turn_id\"], \n",
    "                         \"action\" : game_turn[\"action\"], \n",
    "                         \"required_outcome\" : game_turn[\"required_outcome\"],\n",
    "                         \"reaction\" : find_strategy(game_turn[\"action\"], game_turn[\"required_outcome\"])} \n",
    "                                        for game_turn in game_summary_revised]"
   ]
  },
  {
   "cell_type": "code",
   "execution_count": 13,
   "id": "61a60131-ad62-4d79-a794-cf4e72f8305c",
   "metadata": {},
   "outputs": [
    {
     "name": "stdout",
     "output_type": "stream",
     "text": [
      "Sample turn summary: {'turn_id': 0, 'action': 'C', 'required_outcome': 'X', 'reaction': 'B'}\n"
     ]
    }
   ],
   "source": [
    "print(f\"Sample turn summary: {game_summary_revised[0]}\")"
   ]
  },
  {
   "cell_type": "code",
   "execution_count": 15,
   "id": "c175f9cc-c8a0-4589-8757-1208caffdfeb",
   "metadata": {},
   "outputs": [],
   "source": [
    "my_score = 0\n",
    "for game_round in game_summary_revised:\n",
    "    my_score += check_score(game_round[\"action\"], game_round[\"reaction\"], scores_dict, moves_codes)"
   ]
  },
  {
   "cell_type": "code",
   "execution_count": 16,
   "id": "eb914b63-b2c7-474f-9ba8-62f0edabdc42",
   "metadata": {},
   "outputs": [
    {
     "name": "stdout",
     "output_type": "stream",
     "text": [
      "14470\n"
     ]
    }
   ],
   "source": [
    "print(my_score)"
   ]
  }
 ],
 "metadata": {
  "kernelspec": {
   "display_name": "Python 3 (ipykernel)",
   "language": "python",
   "name": "python3"
  },
  "language_info": {
   "codemirror_mode": {
    "name": "ipython",
    "version": 3
   },
   "file_extension": ".py",
   "mimetype": "text/x-python",
   "name": "python",
   "nbconvert_exporter": "python",
   "pygments_lexer": "ipython3",
   "version": "3.9.7"
  }
 },
 "nbformat": 4,
 "nbformat_minor": 5
}
